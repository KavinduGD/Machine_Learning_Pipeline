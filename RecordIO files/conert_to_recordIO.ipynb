{
 "cells": [
  {
   "cell_type": "code",
   "execution_count": 8,
   "id": "515ca5aa",
   "metadata": {},
   "outputs": [
    {
     "name": "stdout",
     "output_type": "stream",
     "text": [
      "Package             Version\n",
      "------------------- ---------\n",
      "argon2-cffi         20.1.0\n",
      "async-generator     1.10\n",
      "attrs               21.4.0\n",
      "backcall            0.2.0\n",
      "bleach              4.1.0\n",
      "certifi             2021.5.30\n",
      "cffi                1.14.6\n",
      "chardet             3.0.4\n",
      "colorama            0.4.4\n",
      "cryptography        35.0.0\n",
      "decorator           5.1.1\n",
      "defusedxml          0.7.1\n",
      "entrypoints         0.3\n",
      "idna                2.6\n",
      "importlib-metadata  4.8.1\n",
      "ipykernel           5.3.4\n",
      "ipython             7.16.1\n",
      "ipython-genutils    0.2.0\n",
      "ipywidgets          7.6.5\n",
      "jedi                0.17.2\n",
      "Jinja2              3.0.3\n",
      "jsonschema          3.2.0\n",
      "jupyter             1.0.0\n",
      "jupyter-client      7.1.2\n",
      "jupyter-console     6.4.3\n",
      "jupyter-core        4.8.1\n",
      "jupyterlab-pygments 0.1.2\n",
      "jupyterlab-widgets  1.0.0\n",
      "MarkupSafe          2.0.1\n",
      "mistune             0.8.4\n",
      "mkl-fft             1.0.6\n",
      "mkl-random          1.0.1\n",
      "mxnet               1.2.1\n",
      "nbclient            0.5.3\n",
      "nbconvert           6.0.7\n",
      "nbformat            5.1.3\n",
      "nest-asyncio        1.5.1\n",
      "notebook            6.4.3\n",
      "numpy               1.15.0\n",
      "packaging           21.3\n",
      "pandocfilters       1.5.0\n",
      "parso               0.7.0\n",
      "pickleshare         0.7.5\n",
      "pip                 21.2.2\n",
      "prometheus-client   0.13.1\n",
      "prompt-toolkit      3.0.20\n",
      "pycparser           2.21\n",
      "Pygments            2.11.2\n",
      "pyOpenSSL           22.0.0\n",
      "pyparsing           3.0.4\n",
      "PyQt5               5.12.3\n",
      "PyQt5_sip           4.19.18\n",
      "PyQtChart           5.12\n",
      "PyQtWebEngine       5.12.1\n",
      "pyrsistent          0.17.3\n",
      "PySocks             1.7.1\n",
      "python-dateutil     2.8.2\n",
      "pywin32             228\n",
      "pywinpty            0.5.7\n",
      "pyzmq               22.2.1\n",
      "qtconsole           5.2.2\n",
      "QtPy                2.0.1\n",
      "requests            2.18.4\n",
      "Send2Trash          1.8.0\n",
      "setuptools          58.0.4\n",
      "six                 1.16.0\n",
      "TBB                 0.2\n",
      "terminado           0.9.4\n",
      "testpath            0.5.0\n",
      "tornado             6.1\n",
      "traitlets           4.3.3\n",
      "typing_extensions   4.1.1\n",
      "urllib3             1.22\n",
      "wcwidth             0.2.5\n",
      "webencodings        0.5.1\n",
      "wheel               0.37.1\n",
      "widgetsnbextension  3.5.1\n",
      "win-inet-pton       1.1.0\n",
      "wincertstore        0.2\n",
      "zipp                3.6.0\n"
     ]
    }
   ],
   "source": [
    "!pip list show"
   ]
  },
  {
   "cell_type": "markdown",
   "id": "73718726",
   "metadata": {},
   "source": [
    "###  mxnet               1.2.1\n",
    "###  numpy               1.15.0\n",
    "###  opencv-python"
   ]
  },
  {
   "cell_type": "code",
   "execution_count": 1,
   "id": "4c6d9245-f51f-4c5d-8458-18824ac30f97",
   "metadata": {},
   "outputs": [],
   "source": [
    "RESIZE_SIZE = 256\n",
    "BASE_DIR = \"PlasticDetection/\""
   ]
  },
  {
   "cell_type": "code",
   "execution_count": 5,
   "id": "333778e9-bde2-4f1e-b44d-44ad623db6c6",
   "metadata": {},
   "outputs": [
    {
     "name": "stderr",
     "output_type": "stream",
     "text": [
      "usage: im2rec.py [-h] [--list] [--exts EXTS [EXTS ...]] [--chunks CHUNKS]\n",
      "                 [--train-ratio TRAIN_RATIO] [--test-ratio TEST_RATIO]\n",
      "                 [--recursive] [--no-shuffle] [--pass-through]\n",
      "                 [--resize RESIZE] [--center-crop] [--quality QUALITY]\n",
      "                 [--num-thread NUM_THREAD] [--color {-1,0,1}]\n",
      "                 [--encoding {.jpg,.png}] [--pack-label]\n",
      "                 prefix root\n",
      "im2rec.py: error: argument --resize: invalid int value: '$RESIZE_SIZE'\n"
     ]
    }
   ],
   "source": [
    "!python im2rec.py --resize $RESIZE_SIZE --pack-label test $BASE_DIR/images/"
   ]
  },
  {
   "cell_type": "code",
   "execution_count": 6,
   "id": "efefb502-52b1-46f7-8b02-39364b0ec0de",
   "metadata": {},
   "outputs": [
    {
     "data": {
      "text/plain": [
       "CompletedProcess(args=['python', 'im2rec.py', '--resize', '256', '--pack-label', 'test', 'PlasticDetection//images/'], returncode=0)"
      ]
     },
     "execution_count": 6,
     "metadata": {},
     "output_type": "execute_result"
    }
   ],
   "source": [
    "import subprocess\n",
    "\n",
    "RESIZE_SIZE = 256\n",
    "BASE_DIR = \"PlasticDetection/\"\n",
    "\n",
    "command = [\n",
    "    \"python\",\n",
    "    \"im2rec.py\",\n",
    "    \"--resize\", str(RESIZE_SIZE),\n",
    "    \"--pack-label\",\n",
    "    \"test\",\n",
    "    f\"{BASE_DIR}/images/\"\n",
    "]\n",
    "\n",
    "subprocess.run(command)\n"
   ]
  },
  {
   "cell_type": "code",
   "execution_count": 7,
   "id": "51224424-7b18-4f15-8a9c-9325618e2d08",
   "metadata": {},
   "outputs": [
    {
     "data": {
      "text/plain": [
       "CompletedProcess(args=['python', 'im2rec.py', '--resize', '256', '--pack-label', 'train', 'PlasticDetection//images/'], returncode=0)"
      ]
     },
     "execution_count": 7,
     "metadata": {},
     "output_type": "execute_result"
    }
   ],
   "source": [
    "import subprocess\n",
    "\n",
    "RESIZE_SIZE = 256\n",
    "BASE_DIR = \"PlasticDetection/\"\n",
    "\n",
    "command = [\n",
    "    \"python\",\n",
    "    \"im2rec.py\",\n",
    "    \"--resize\", str(RESIZE_SIZE),\n",
    "    \"--pack-label\",\n",
    "    \"train\",\n",
    "    f\"{BASE_DIR}/images/\"\n",
    "]\n",
    "\n",
    "subprocess.run(command)\n"
   ]
  }
 ],
 "metadata": {
  "kernelspec": {
   "display_name": "Python 3",
   "language": "python",
   "name": "python3"
  },
  "language_info": {
   "codemirror_mode": {
    "name": "ipython",
    "version": 3
   },
   "file_extension": ".py",
   "mimetype": "text/x-python",
   "name": "python",
   "nbconvert_exporter": "python",
   "pygments_lexer": "ipython3",
   "version": "3.6.13"
  }
 },
 "nbformat": 4,
 "nbformat_minor": 5
}
