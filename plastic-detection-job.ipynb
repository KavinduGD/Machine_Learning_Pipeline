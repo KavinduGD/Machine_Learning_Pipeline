{
 "cells": [
  {
   "cell_type": "code",
   "execution_count": 46,
   "id": "6fbdd39b-7653-453e-bcf5-3bdb87464b80",
   "metadata": {},
   "outputs": [],
   "source": [
    "from datetime import datetime\n",
    "date_today=datetime.today().strftime('%Y-%m-%d')\n",
    "\n",
    "year=date_today[0:4]\n",
    "month=date_today[5:7]\n",
    "day=date_today[8:10]"
   ]
  },
  {
   "cell_type": "code",
   "execution_count": 57,
   "id": "d60c227f-a44e-461f-8c96-89090bf7cd3e",
   "metadata": {},
   "outputs": [],
   "source": [
    "import json\n",
    "import random\n",
    "import matplotlib.pyplot as plt\n",
    "import matplotlib.image as mpimg\n",
    "import io\n",
    "from PIL import Image\n",
    "from io import BytesIO\n",
    "from sagemaker.s3 import S3Downloader\n",
    "import boto3\n",
    "\n",
    "s3=boto3.resource('s3')\n",
    "my_bucket=s3.Bucket('plastic-object-detection-batch-tranformation-tkg-0001')\n",
    "\n",
    "num_detections=[]\n",
    "file_key=f's3://plastic-object-detection-batch-tranformation-tkg-0001/cleaned-jsons/{year}/{month}/{day}/{year}_{month}_{day}.json'\n",
    "output=S3Downloader.read_file(file_key)\n",
    "detections=json.loads(output)\n",
    "\n",
    "for i in detections:\n",
    "    images_path_s3=f'images/{year}/{month}/{day}/{i[24:-4]}'\n",
    "    object=my_bucket.Object(images_path_s3)\n",
    "    response=object.get()\n",
    "    file_stream=response['Body']\n",
    "    img=Image.open(file_stream)\n",
    "    width,height=img.size\n",
    "    # fig=plt.figure()\n",
    "    plt.imshow(img)\n",
    "    detections_in_image=[]\n",
    "    data=detections[i]\n",
    "    colors=dict()\n",
    "    for j in data:\n",
    "        detections_in_image.append(j)\n",
    "    # detections_in_image=data\n",
    "    \n",
    "    for k in detections_in_image:\n",
    "        kclass,score,x0,y0,x1,y1=k\n",
    "        if score<0.22:\n",
    "            continue\n",
    "        cls_id=int(kclass)\n",
    "        if cls_id not in colors:\n",
    "            colors[cls_id]=(random.random(),random.random(),random.random())\n",
    "        xmin=int(x0*width)\n",
    "        ymin=int(y0*height)\n",
    "        xmax=int(x1*width)\n",
    "        ymax=int(y1*height)\n",
    "\n",
    "        rect=plt.Rectangle((xmin,ymin),xmax-xmin,ymax-ymin,fill=False,edgecolor=colors[cls_id],linewidth=3.5)\n",
    "        plt.gca().add_patch(rect)\n",
    "        plt.gca().text(xmin,ymin-2,'{:.3f}'.format(score),bbox=dict(facecolor=colors[cls_id],alpha=0.5),fontsize=12,color='white')\n",
    "\n",
    "    \n",
    "    image_data=my_bucket.Object(f'output-images/{year}/{month}/{day}/{i[24:-4]}')\n",
    "    file_stream=BytesIO()\n",
    "    plt.savefig(file_stream,format='jpeg')\n",
    "    image_data.put(Body=file_stream.getvalue())\n",
    "    plt.close()"
   ]
  }
 ],
 "metadata": {
  "kernelspec": {
   "display_name": "Python 3 (ipykernel)",
   "language": "python",
   "name": "python3"
  },
  "language_info": {
   "codemirror_mode": {
    "name": "ipython",
    "version": 3
   },
   "file_extension": ".py",
   "mimetype": "text/x-python",
   "name": "python",
   "nbconvert_exporter": "python",
   "pygments_lexer": "ipython3",
   "version": "3.10.14"
  }
 },
 "nbformat": 4,
 "nbformat_minor": 5
}
